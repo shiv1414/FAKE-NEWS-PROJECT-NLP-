{
 "cells": [
  {
   "cell_type": "code",
   "execution_count": 218,
   "id": "0be4d9f4",
   "metadata": {},
   "outputs": [],
   "source": [
    "import pandas as pd \n",
    "import numpy as np\n",
    "import matplotlib.pyplot as plt\n",
    "import seaborn as sns\n",
    "%matplotlib inline\n",
    "\n",
    "import warnings\n",
    "warnings.filterwarnings('ignore')"
   ]
  },
  {
   "cell_type": "code",
   "execution_count": 219,
   "id": "52590f5c",
   "metadata": {},
   "outputs": [
    {
     "data": {
      "text/html": [
       "<div>\n",
       "<style scoped>\n",
       "    .dataframe tbody tr th:only-of-type {\n",
       "        vertical-align: middle;\n",
       "    }\n",
       "\n",
       "    .dataframe tbody tr th {\n",
       "        vertical-align: top;\n",
       "    }\n",
       "\n",
       "    .dataframe thead th {\n",
       "        text-align: right;\n",
       "    }\n",
       "</style>\n",
       "<table border=\"1\" class=\"dataframe\">\n",
       "  <thead>\n",
       "    <tr style=\"text-align: right;\">\n",
       "      <th></th>\n",
       "      <th>title</th>\n",
       "      <th>text</th>\n",
       "      <th>subject</th>\n",
       "      <th>date</th>\n",
       "    </tr>\n",
       "  </thead>\n",
       "  <tbody>\n",
       "    <tr>\n",
       "      <th>0</th>\n",
       "      <td>Donald Trump Sends Out Embarrassing New Year’...</td>\n",
       "      <td>Donald Trump just couldn t wish all Americans ...</td>\n",
       "      <td>News</td>\n",
       "      <td>December 31, 2017</td>\n",
       "    </tr>\n",
       "    <tr>\n",
       "      <th>1</th>\n",
       "      <td>Drunk Bragging Trump Staffer Started Russian ...</td>\n",
       "      <td>House Intelligence Committee Chairman Devin Nu...</td>\n",
       "      <td>News</td>\n",
       "      <td>December 31, 2017</td>\n",
       "    </tr>\n",
       "    <tr>\n",
       "      <th>2</th>\n",
       "      <td>Sheriff David Clarke Becomes An Internet Joke...</td>\n",
       "      <td>On Friday, it was revealed that former Milwauk...</td>\n",
       "      <td>News</td>\n",
       "      <td>December 30, 2017</td>\n",
       "    </tr>\n",
       "    <tr>\n",
       "      <th>3</th>\n",
       "      <td>Trump Is So Obsessed He Even Has Obama’s Name...</td>\n",
       "      <td>On Christmas day, Donald Trump announced that ...</td>\n",
       "      <td>News</td>\n",
       "      <td>December 29, 2017</td>\n",
       "    </tr>\n",
       "    <tr>\n",
       "      <th>4</th>\n",
       "      <td>Pope Francis Just Called Out Donald Trump Dur...</td>\n",
       "      <td>Pope Francis used his annual Christmas Day mes...</td>\n",
       "      <td>News</td>\n",
       "      <td>December 25, 2017</td>\n",
       "    </tr>\n",
       "  </tbody>\n",
       "</table>\n",
       "</div>"
      ],
      "text/plain": [
       "                                               title  \\\n",
       "0   Donald Trump Sends Out Embarrassing New Year’...   \n",
       "1   Drunk Bragging Trump Staffer Started Russian ...   \n",
       "2   Sheriff David Clarke Becomes An Internet Joke...   \n",
       "3   Trump Is So Obsessed He Even Has Obama’s Name...   \n",
       "4   Pope Francis Just Called Out Donald Trump Dur...   \n",
       "\n",
       "                                                text subject  \\\n",
       "0  Donald Trump just couldn t wish all Americans ...    News   \n",
       "1  House Intelligence Committee Chairman Devin Nu...    News   \n",
       "2  On Friday, it was revealed that former Milwauk...    News   \n",
       "3  On Christmas day, Donald Trump announced that ...    News   \n",
       "4  Pope Francis used his annual Christmas Day mes...    News   \n",
       "\n",
       "                date  \n",
       "0  December 31, 2017  \n",
       "1  December 31, 2017  \n",
       "2  December 30, 2017  \n",
       "3  December 29, 2017  \n",
       "4  December 25, 2017  "
      ]
     },
     "execution_count": 219,
     "metadata": {},
     "output_type": "execute_result"
    }
   ],
   "source": [
    "# there are two datasets in this project one caontain fake news and one contain real news . Lets load both\n",
    "fake = pd.read_csv(\"C:\\\\Users\\\\LENOVO\\\\Downloads\\\\Fake-News-Project\\\\Fake News Project\\\\Fake.csv\")\n",
    "fake.head()"
   ]
  },
  {
   "cell_type": "code",
   "execution_count": 220,
   "id": "405903e6",
   "metadata": {},
   "outputs": [
    {
     "data": {
      "text/html": [
       "<div>\n",
       "<style scoped>\n",
       "    .dataframe tbody tr th:only-of-type {\n",
       "        vertical-align: middle;\n",
       "    }\n",
       "\n",
       "    .dataframe tbody tr th {\n",
       "        vertical-align: top;\n",
       "    }\n",
       "\n",
       "    .dataframe thead th {\n",
       "        text-align: right;\n",
       "    }\n",
       "</style>\n",
       "<table border=\"1\" class=\"dataframe\">\n",
       "  <thead>\n",
       "    <tr style=\"text-align: right;\">\n",
       "      <th></th>\n",
       "      <th>title</th>\n",
       "      <th>text</th>\n",
       "      <th>subject</th>\n",
       "      <th>date</th>\n",
       "    </tr>\n",
       "  </thead>\n",
       "  <tbody>\n",
       "    <tr>\n",
       "      <th>0</th>\n",
       "      <td>As U.S. budget fight looms, Republicans flip t...</td>\n",
       "      <td>WASHINGTON (Reuters) - The head of a conservat...</td>\n",
       "      <td>politicsNews</td>\n",
       "      <td>December 31, 2017</td>\n",
       "    </tr>\n",
       "    <tr>\n",
       "      <th>1</th>\n",
       "      <td>U.S. military to accept transgender recruits o...</td>\n",
       "      <td>WASHINGTON (Reuters) - Transgender people will...</td>\n",
       "      <td>politicsNews</td>\n",
       "      <td>December 29, 2017</td>\n",
       "    </tr>\n",
       "    <tr>\n",
       "      <th>2</th>\n",
       "      <td>Senior U.S. Republican senator: 'Let Mr. Muell...</td>\n",
       "      <td>WASHINGTON (Reuters) - The special counsel inv...</td>\n",
       "      <td>politicsNews</td>\n",
       "      <td>December 31, 2017</td>\n",
       "    </tr>\n",
       "    <tr>\n",
       "      <th>3</th>\n",
       "      <td>FBI Russia probe helped by Australian diplomat...</td>\n",
       "      <td>WASHINGTON (Reuters) - Trump campaign adviser ...</td>\n",
       "      <td>politicsNews</td>\n",
       "      <td>December 30, 2017</td>\n",
       "    </tr>\n",
       "    <tr>\n",
       "      <th>4</th>\n",
       "      <td>Trump wants Postal Service to charge 'much mor...</td>\n",
       "      <td>SEATTLE/WASHINGTON (Reuters) - President Donal...</td>\n",
       "      <td>politicsNews</td>\n",
       "      <td>December 29, 2017</td>\n",
       "    </tr>\n",
       "  </tbody>\n",
       "</table>\n",
       "</div>"
      ],
      "text/plain": [
       "                                               title  \\\n",
       "0  As U.S. budget fight looms, Republicans flip t...   \n",
       "1  U.S. military to accept transgender recruits o...   \n",
       "2  Senior U.S. Republican senator: 'Let Mr. Muell...   \n",
       "3  FBI Russia probe helped by Australian diplomat...   \n",
       "4  Trump wants Postal Service to charge 'much mor...   \n",
       "\n",
       "                                                text       subject  \\\n",
       "0  WASHINGTON (Reuters) - The head of a conservat...  politicsNews   \n",
       "1  WASHINGTON (Reuters) - Transgender people will...  politicsNews   \n",
       "2  WASHINGTON (Reuters) - The special counsel inv...  politicsNews   \n",
       "3  WASHINGTON (Reuters) - Trump campaign adviser ...  politicsNews   \n",
       "4  SEATTLE/WASHINGTON (Reuters) - President Donal...  politicsNews   \n",
       "\n",
       "                 date  \n",
       "0  December 31, 2017   \n",
       "1  December 29, 2017   \n",
       "2  December 31, 2017   \n",
       "3  December 30, 2017   \n",
       "4  December 29, 2017   "
      ]
     },
     "execution_count": 220,
     "metadata": {},
     "output_type": "execute_result"
    }
   ],
   "source": [
    "true = pd.read_csv(\"C:\\\\Users\\\\LENOVO\\\\Downloads\\\\Fake-News-Project\\\\Fake News Project\\\\True.csv\")\n",
    "true.head()"
   ]
  },
  {
   "cell_type": "code",
   "execution_count": 221,
   "id": "e8db4d37",
   "metadata": {},
   "outputs": [
    {
     "data": {
      "text/plain": [
       "title      0\n",
       "text       0\n",
       "subject    0\n",
       "date       0\n",
       "dtype: int64"
      ]
     },
     "execution_count": 221,
     "metadata": {},
     "output_type": "execute_result"
    }
   ],
   "source": [
    "fake.isnull().sum()"
   ]
  },
  {
   "cell_type": "code",
   "execution_count": 224,
   "id": "1d2353b7",
   "metadata": {},
   "outputs": [
    {
     "data": {
      "text/plain": [
       "title      0\n",
       "text       0\n",
       "subject    0\n",
       "date       0\n",
       "dtype: int64"
      ]
     },
     "execution_count": 224,
     "metadata": {},
     "output_type": "execute_result"
    }
   ],
   "source": [
    "true.isnull().sum()          # no null present "
   ]
  },
  {
   "cell_type": "code",
   "execution_count": 225,
   "id": "c3dce02a",
   "metadata": {},
   "outputs": [
    {
     "name": "stdout",
     "output_type": "stream",
     "text": [
      "FAKE SHAPE:- (23481, 4)\n",
      "\n",
      "\n",
      "TRUE SHAPE:- (21417, 4)\n"
     ]
    }
   ],
   "source": [
    "print('FAKE SHAPE:-',fake.shape)\n",
    "print('')\n",
    "print('')\n",
    "print('TRUE SHAPE:-',true.shape)"
   ]
  },
  {
   "cell_type": "code",
   "execution_count": 226,
   "id": "f8bd1fe6",
   "metadata": {},
   "outputs": [
    {
     "name": "stdout",
     "output_type": "stream",
     "text": [
      "<class 'pandas.core.frame.DataFrame'>\n",
      "RangeIndex: 23481 entries, 0 to 23480\n",
      "Data columns (total 4 columns):\n",
      " #   Column   Non-Null Count  Dtype \n",
      "---  ------   --------------  ----- \n",
      " 0   title    23481 non-null  object\n",
      " 1   text     23481 non-null  object\n",
      " 2   subject  23481 non-null  object\n",
      " 3   date     23481 non-null  object\n",
      "dtypes: object(4)\n",
      "memory usage: 733.9+ KB\n"
     ]
    }
   ],
   "source": [
    "fake.info()"
   ]
  },
  {
   "cell_type": "code",
   "execution_count": 227,
   "id": "d02f217e",
   "metadata": {},
   "outputs": [
    {
     "name": "stdout",
     "output_type": "stream",
     "text": [
      "<class 'pandas.core.frame.DataFrame'>\n",
      "RangeIndex: 21417 entries, 0 to 21416\n",
      "Data columns (total 4 columns):\n",
      " #   Column   Non-Null Count  Dtype \n",
      "---  ------   --------------  ----- \n",
      " 0   title    21417 non-null  object\n",
      " 1   text     21417 non-null  object\n",
      " 2   subject  21417 non-null  object\n",
      " 3   date     21417 non-null  object\n",
      "dtypes: object(4)\n",
      "memory usage: 669.4+ KB\n"
     ]
    }
   ],
   "source": [
    "true.info()"
   ]
  },
  {
   "cell_type": "code",
   "execution_count": 228,
   "id": "3eb25150",
   "metadata": {},
   "outputs": [],
   "source": [
    "# lets make a new column name 'Label' which contain 0 for fake news and 1 for real news\n",
    "fake['label'] = 0 "
   ]
  },
  {
   "cell_type": "code",
   "execution_count": 229,
   "id": "d16ede2b",
   "metadata": {},
   "outputs": [],
   "source": [
    "true['label'] = 1"
   ]
  },
  {
   "cell_type": "code",
   "execution_count": 230,
   "id": "f3362497",
   "metadata": {},
   "outputs": [
    {
     "data": {
      "text/html": [
       "<div>\n",
       "<style scoped>\n",
       "    .dataframe tbody tr th:only-of-type {\n",
       "        vertical-align: middle;\n",
       "    }\n",
       "\n",
       "    .dataframe tbody tr th {\n",
       "        vertical-align: top;\n",
       "    }\n",
       "\n",
       "    .dataframe thead th {\n",
       "        text-align: right;\n",
       "    }\n",
       "</style>\n",
       "<table border=\"1\" class=\"dataframe\">\n",
       "  <thead>\n",
       "    <tr style=\"text-align: right;\">\n",
       "      <th></th>\n",
       "      <th>title</th>\n",
       "      <th>text</th>\n",
       "      <th>subject</th>\n",
       "      <th>date</th>\n",
       "      <th>label</th>\n",
       "    </tr>\n",
       "  </thead>\n",
       "  <tbody>\n",
       "    <tr>\n",
       "      <th>0</th>\n",
       "      <td>Donald Trump Sends Out Embarrassing New Year’...</td>\n",
       "      <td>Donald Trump just couldn t wish all Americans ...</td>\n",
       "      <td>News</td>\n",
       "      <td>December 31, 2017</td>\n",
       "      <td>0</td>\n",
       "    </tr>\n",
       "    <tr>\n",
       "      <th>1</th>\n",
       "      <td>Drunk Bragging Trump Staffer Started Russian ...</td>\n",
       "      <td>House Intelligence Committee Chairman Devin Nu...</td>\n",
       "      <td>News</td>\n",
       "      <td>December 31, 2017</td>\n",
       "      <td>0</td>\n",
       "    </tr>\n",
       "    <tr>\n",
       "      <th>2</th>\n",
       "      <td>Sheriff David Clarke Becomes An Internet Joke...</td>\n",
       "      <td>On Friday, it was revealed that former Milwauk...</td>\n",
       "      <td>News</td>\n",
       "      <td>December 30, 2017</td>\n",
       "      <td>0</td>\n",
       "    </tr>\n",
       "    <tr>\n",
       "      <th>3</th>\n",
       "      <td>Trump Is So Obsessed He Even Has Obama’s Name...</td>\n",
       "      <td>On Christmas day, Donald Trump announced that ...</td>\n",
       "      <td>News</td>\n",
       "      <td>December 29, 2017</td>\n",
       "      <td>0</td>\n",
       "    </tr>\n",
       "    <tr>\n",
       "      <th>4</th>\n",
       "      <td>Pope Francis Just Called Out Donald Trump Dur...</td>\n",
       "      <td>Pope Francis used his annual Christmas Day mes...</td>\n",
       "      <td>News</td>\n",
       "      <td>December 25, 2017</td>\n",
       "      <td>0</td>\n",
       "    </tr>\n",
       "  </tbody>\n",
       "</table>\n",
       "</div>"
      ],
      "text/plain": [
       "                                               title  \\\n",
       "0   Donald Trump Sends Out Embarrassing New Year’...   \n",
       "1   Drunk Bragging Trump Staffer Started Russian ...   \n",
       "2   Sheriff David Clarke Becomes An Internet Joke...   \n",
       "3   Trump Is So Obsessed He Even Has Obama’s Name...   \n",
       "4   Pope Francis Just Called Out Donald Trump Dur...   \n",
       "\n",
       "                                                text subject  \\\n",
       "0  Donald Trump just couldn t wish all Americans ...    News   \n",
       "1  House Intelligence Committee Chairman Devin Nu...    News   \n",
       "2  On Friday, it was revealed that former Milwauk...    News   \n",
       "3  On Christmas day, Donald Trump announced that ...    News   \n",
       "4  Pope Francis used his annual Christmas Day mes...    News   \n",
       "\n",
       "                date  label  \n",
       "0  December 31, 2017      0  \n",
       "1  December 31, 2017      0  \n",
       "2  December 30, 2017      0  \n",
       "3  December 29, 2017      0  \n",
       "4  December 25, 2017      0  "
      ]
     },
     "execution_count": 230,
     "metadata": {},
     "output_type": "execute_result"
    }
   ],
   "source": [
    "fake.head()"
   ]
  },
  {
   "cell_type": "code",
   "execution_count": 231,
   "id": "012b1c68",
   "metadata": {},
   "outputs": [
    {
     "data": {
      "text/html": [
       "<div>\n",
       "<style scoped>\n",
       "    .dataframe tbody tr th:only-of-type {\n",
       "        vertical-align: middle;\n",
       "    }\n",
       "\n",
       "    .dataframe tbody tr th {\n",
       "        vertical-align: top;\n",
       "    }\n",
       "\n",
       "    .dataframe thead th {\n",
       "        text-align: right;\n",
       "    }\n",
       "</style>\n",
       "<table border=\"1\" class=\"dataframe\">\n",
       "  <thead>\n",
       "    <tr style=\"text-align: right;\">\n",
       "      <th></th>\n",
       "      <th>title</th>\n",
       "      <th>text</th>\n",
       "      <th>subject</th>\n",
       "      <th>date</th>\n",
       "      <th>label</th>\n",
       "    </tr>\n",
       "  </thead>\n",
       "  <tbody>\n",
       "    <tr>\n",
       "      <th>0</th>\n",
       "      <td>As U.S. budget fight looms, Republicans flip t...</td>\n",
       "      <td>WASHINGTON (Reuters) - The head of a conservat...</td>\n",
       "      <td>politicsNews</td>\n",
       "      <td>December 31, 2017</td>\n",
       "      <td>1</td>\n",
       "    </tr>\n",
       "    <tr>\n",
       "      <th>1</th>\n",
       "      <td>U.S. military to accept transgender recruits o...</td>\n",
       "      <td>WASHINGTON (Reuters) - Transgender people will...</td>\n",
       "      <td>politicsNews</td>\n",
       "      <td>December 29, 2017</td>\n",
       "      <td>1</td>\n",
       "    </tr>\n",
       "    <tr>\n",
       "      <th>2</th>\n",
       "      <td>Senior U.S. Republican senator: 'Let Mr. Muell...</td>\n",
       "      <td>WASHINGTON (Reuters) - The special counsel inv...</td>\n",
       "      <td>politicsNews</td>\n",
       "      <td>December 31, 2017</td>\n",
       "      <td>1</td>\n",
       "    </tr>\n",
       "    <tr>\n",
       "      <th>3</th>\n",
       "      <td>FBI Russia probe helped by Australian diplomat...</td>\n",
       "      <td>WASHINGTON (Reuters) - Trump campaign adviser ...</td>\n",
       "      <td>politicsNews</td>\n",
       "      <td>December 30, 2017</td>\n",
       "      <td>1</td>\n",
       "    </tr>\n",
       "    <tr>\n",
       "      <th>4</th>\n",
       "      <td>Trump wants Postal Service to charge 'much mor...</td>\n",
       "      <td>SEATTLE/WASHINGTON (Reuters) - President Donal...</td>\n",
       "      <td>politicsNews</td>\n",
       "      <td>December 29, 2017</td>\n",
       "      <td>1</td>\n",
       "    </tr>\n",
       "  </tbody>\n",
       "</table>\n",
       "</div>"
      ],
      "text/plain": [
       "                                               title  \\\n",
       "0  As U.S. budget fight looms, Republicans flip t...   \n",
       "1  U.S. military to accept transgender recruits o...   \n",
       "2  Senior U.S. Republican senator: 'Let Mr. Muell...   \n",
       "3  FBI Russia probe helped by Australian diplomat...   \n",
       "4  Trump wants Postal Service to charge 'much mor...   \n",
       "\n",
       "                                                text       subject  \\\n",
       "0  WASHINGTON (Reuters) - The head of a conservat...  politicsNews   \n",
       "1  WASHINGTON (Reuters) - Transgender people will...  politicsNews   \n",
       "2  WASHINGTON (Reuters) - The special counsel inv...  politicsNews   \n",
       "3  WASHINGTON (Reuters) - Trump campaign adviser ...  politicsNews   \n",
       "4  SEATTLE/WASHINGTON (Reuters) - President Donal...  politicsNews   \n",
       "\n",
       "                 date  label  \n",
       "0  December 31, 2017       1  \n",
       "1  December 29, 2017       1  \n",
       "2  December 31, 2017       1  \n",
       "3  December 30, 2017       1  \n",
       "4  December 29, 2017       1  "
      ]
     },
     "execution_count": 231,
     "metadata": {},
     "output_type": "execute_result"
    }
   ],
   "source": [
    "true.head()"
   ]
  },
  {
   "cell_type": "code",
   "execution_count": 232,
   "id": "2bad498b",
   "metadata": {},
   "outputs": [
    {
     "data": {
      "text/plain": [
       "(23481, 5)"
      ]
     },
     "execution_count": 232,
     "metadata": {},
     "output_type": "execute_result"
    }
   ],
   "source": [
    "fake.shape"
   ]
  },
  {
   "cell_type": "code",
   "execution_count": 233,
   "id": "2fc5a08a",
   "metadata": {},
   "outputs": [
    {
     "data": {
      "text/plain": [
       "(21417, 5)"
      ]
     },
     "execution_count": 233,
     "metadata": {},
     "output_type": "execute_result"
    }
   ],
   "source": [
    "true.shape"
   ]
  },
  {
   "cell_type": "code",
   "execution_count": 234,
   "id": "d36f5728",
   "metadata": {},
   "outputs": [
    {
     "data": {
      "text/html": [
       "<div>\n",
       "<style scoped>\n",
       "    .dataframe tbody tr th:only-of-type {\n",
       "        vertical-align: middle;\n",
       "    }\n",
       "\n",
       "    .dataframe tbody tr th {\n",
       "        vertical-align: top;\n",
       "    }\n",
       "\n",
       "    .dataframe thead th {\n",
       "        text-align: right;\n",
       "    }\n",
       "</style>\n",
       "<table border=\"1\" class=\"dataframe\">\n",
       "  <thead>\n",
       "    <tr style=\"text-align: right;\">\n",
       "      <th></th>\n",
       "      <th>title</th>\n",
       "      <th>text</th>\n",
       "      <th>subject</th>\n",
       "      <th>date</th>\n",
       "      <th>label</th>\n",
       "    </tr>\n",
       "  </thead>\n",
       "  <tbody>\n",
       "    <tr>\n",
       "      <th>7630</th>\n",
       "      <td>Supreme Court Just Delivered HUGE Win For Sam...</td>\n",
       "      <td>In big news coming out of the Supreme Court, i...</td>\n",
       "      <td>News</td>\n",
       "      <td>March 7, 2016</td>\n",
       "      <td>0</td>\n",
       "    </tr>\n",
       "    <tr>\n",
       "      <th>4126</th>\n",
       "      <td>MUTINY: Even Trump’s Own Employees Are Saying...</td>\n",
       "      <td>Donald Trump supporters often say that they ar...</td>\n",
       "      <td>News</td>\n",
       "      <td>October 19, 2016</td>\n",
       "      <td>0</td>\n",
       "    </tr>\n",
       "    <tr>\n",
       "      <th>206</th>\n",
       "      <td>Trump will announce new U.S. security strategy...</td>\n",
       "      <td>WASHINGTON (Reuters) - U.S. President Donald T...</td>\n",
       "      <td>politicsNews</td>\n",
       "      <td>December 12, 2017</td>\n",
       "      <td>1</td>\n",
       "    </tr>\n",
       "    <tr>\n",
       "      <th>4273</th>\n",
       "      <td>Insurance, medical groups urge Trump to keep f...</td>\n",
       "      <td>WASHINGTON (Reuters) - Major medical groups ke...</td>\n",
       "      <td>politicsNews</td>\n",
       "      <td>April 12, 2017</td>\n",
       "      <td>1</td>\n",
       "    </tr>\n",
       "    <tr>\n",
       "      <th>11383</th>\n",
       "      <td>China, Pakistan to look at including Afghanist...</td>\n",
       "      <td>BEIJING (Reuters) - China and Pakistan will lo...</td>\n",
       "      <td>worldnews</td>\n",
       "      <td>December 26, 2017</td>\n",
       "      <td>1</td>\n",
       "    </tr>\n",
       "    <tr>\n",
       "      <th>...</th>\n",
       "      <td>...</td>\n",
       "      <td>...</td>\n",
       "      <td>...</td>\n",
       "      <td>...</td>\n",
       "      <td>...</td>\n",
       "    </tr>\n",
       "    <tr>\n",
       "      <th>1011</th>\n",
       "      <td>U.S. House tax chief says SALT deduction meeti...</td>\n",
       "      <td>WASHINGTON (Reuters) - A key meeting between R...</td>\n",
       "      <td>politicsNews</td>\n",
       "      <td>October 26, 2017</td>\n",
       "      <td>1</td>\n",
       "    </tr>\n",
       "    <tr>\n",
       "      <th>20874</th>\n",
       "      <td>HOW OBAMA MADE IT POSSIBLE For Protesters To B...</td>\n",
       "      <td>So is anyone else wondering why the cop-hating...</td>\n",
       "      <td>left-news</td>\n",
       "      <td>Mar 14, 2016</td>\n",
       "      <td>0</td>\n",
       "    </tr>\n",
       "    <tr>\n",
       "      <th>20747</th>\n",
       "      <td>Cuban dissidents in electoral challenge as Cas...</td>\n",
       "      <td>HAVANA (Reuters) - Opponents of the Cuban gove...</td>\n",
       "      <td>worldnews</td>\n",
       "      <td>September 7, 2017</td>\n",
       "      <td>1</td>\n",
       "    </tr>\n",
       "    <tr>\n",
       "      <th>10601</th>\n",
       "      <td>Wife of 'American Sniper' making waves in Texa...</td>\n",
       "      <td>FORT WORTH, Texas (Reuters) - The widow of a s...</td>\n",
       "      <td>politicsNews</td>\n",
       "      <td>February 29, 2016</td>\n",
       "      <td>1</td>\n",
       "    </tr>\n",
       "    <tr>\n",
       "      <th>22528</th>\n",
       "      <td>SUNDAY SCREENING: PSYWAR (2010)</td>\n",
       "      <td>21st Century Wire says Our weekly documentary ...</td>\n",
       "      <td>US_News</td>\n",
       "      <td>July 3, 2016</td>\n",
       "      <td>0</td>\n",
       "    </tr>\n",
       "  </tbody>\n",
       "</table>\n",
       "<p>44898 rows × 5 columns</p>\n",
       "</div>"
      ],
      "text/plain": [
       "                                                   title  \\\n",
       "7630    Supreme Court Just Delivered HUGE Win For Sam...   \n",
       "4126    MUTINY: Even Trump’s Own Employees Are Saying...   \n",
       "206    Trump will announce new U.S. security strategy...   \n",
       "4273   Insurance, medical groups urge Trump to keep f...   \n",
       "11383  China, Pakistan to look at including Afghanist...   \n",
       "...                                                  ...   \n",
       "1011   U.S. House tax chief says SALT deduction meeti...   \n",
       "20874  HOW OBAMA MADE IT POSSIBLE For Protesters To B...   \n",
       "20747  Cuban dissidents in electoral challenge as Cas...   \n",
       "10601  Wife of 'American Sniper' making waves in Texa...   \n",
       "22528                    SUNDAY SCREENING: PSYWAR (2010)   \n",
       "\n",
       "                                                    text       subject  \\\n",
       "7630   In big news coming out of the Supreme Court, i...          News   \n",
       "4126   Donald Trump supporters often say that they ar...          News   \n",
       "206    WASHINGTON (Reuters) - U.S. President Donald T...  politicsNews   \n",
       "4273   WASHINGTON (Reuters) - Major medical groups ke...  politicsNews   \n",
       "11383  BEIJING (Reuters) - China and Pakistan will lo...     worldnews   \n",
       "...                                                  ...           ...   \n",
       "1011   WASHINGTON (Reuters) - A key meeting between R...  politicsNews   \n",
       "20874  So is anyone else wondering why the cop-hating...     left-news   \n",
       "20747  HAVANA (Reuters) - Opponents of the Cuban gove...     worldnews   \n",
       "10601  FORT WORTH, Texas (Reuters) - The widow of a s...  politicsNews   \n",
       "22528  21st Century Wire says Our weekly documentary ...       US_News   \n",
       "\n",
       "                     date  label  \n",
       "7630        March 7, 2016      0  \n",
       "4126     October 19, 2016      0  \n",
       "206    December 12, 2017       1  \n",
       "4273      April 12, 2017       1  \n",
       "11383  December 26, 2017       1  \n",
       "...                   ...    ...  \n",
       "1011    October 26, 2017       1  \n",
       "20874        Mar 14, 2016      0  \n",
       "20747  September 7, 2017       1  \n",
       "10601  February 29, 2016       1  \n",
       "22528        July 3, 2016      0  \n",
       "\n",
       "[44898 rows x 5 columns]"
      ]
     },
     "execution_count": 234,
     "metadata": {},
     "output_type": "execute_result"
    }
   ],
   "source": [
    "# Lets merge both dataframes \n",
    "\n",
    "data = pd.concat([fake,true],axis=0)\n",
    "data.sample(frac=1)         # shuffle\n"
   ]
  },
  {
   "cell_type": "code",
   "execution_count": 235,
   "id": "74f1ff2f",
   "metadata": {},
   "outputs": [
    {
     "data": {
      "text/plain": [
       "(44898, 5)"
      ]
     },
     "execution_count": 235,
     "metadata": {},
     "output_type": "execute_result"
    }
   ],
   "source": [
    "data.shape"
   ]
  },
  {
   "cell_type": "code",
   "execution_count": 236,
   "id": "e7adf6d5",
   "metadata": {},
   "outputs": [
    {
     "data": {
      "text/plain": [
       "politicsNews       11272\n",
       "worldnews          10145\n",
       "News                9050\n",
       "politics            6841\n",
       "left-news           4459\n",
       "Government News     1570\n",
       "US_News              783\n",
       "Middle-east          778\n",
       "Name: subject, dtype: int64"
      ]
     },
     "execution_count": 236,
     "metadata": {},
     "output_type": "execute_result"
    },
    {
     "data": {
      "image/png": "[encoded data removed]",
      "text/plain": [
       "<Figure size 720x576 with 1 Axes>"
      ]
     },
     "metadata": {
      "needs_background": "light"
     },
     "output_type": "display_data"
    }
   ],
   "source": [
    "plt.figure(figsize = (10,8))\n",
    "sns.countplot(x='subject', data= data)\n",
    "data['subject'].value_counts()      "
   ]
  },
  {
   "cell_type": "markdown",
   "id": "a61bc1f6",
   "metadata": {},
   "source": [
    "Max news have subjects about Political or from world news"
   ]
  },
  {
   "cell_type": "markdown",
   "id": "a1aa8602",
   "metadata": {},
   "source": [
    "# We can see that the date format is not the one we need. I will apply the appropriate date format for future purposes.  "
   ]
  },
  {
   "cell_type": "code",
   "execution_count": 237,
   "id": "b7ff2ba6",
   "metadata": {},
   "outputs": [],
   "source": [
    "# Correcting some data\n",
    "\n",
    "data['date'] = data['date'].replace(['19-Feb-18'],'February 19, 2018')\n",
    "data['date'] = data['date'].replace(['18-Feb-18'],'February 18, 2018')\n",
    "data['date'] = data['date'].replace(['17-Feb-18'],'February 17, 2018')\n",
    "data['date'] = data['date'].replace(['16-Feb-18'],'February 16, 2018')\n",
    "data['date'] = data['date'].replace(['15-Feb-18'],'February 15, 2018')\n",
    "data['date'] = data['date'].replace(['14-Feb-18'],'February 14, 2018')\n",
    "data['date'] = data['date'].replace(['13-Feb-18'],'February 13, 2018')\n",
    "\n",
    "\n",
    "# some more \n",
    "\n",
    "data['date'] = data['date'].str.replace('Dec ', 'December ')\n",
    "data['date'] = data['date'].str.replace('Nov ', 'November ')\n",
    "data['date'] = data['date'].str.replace('Oct ', 'October ')\n",
    "data['date'] = data['date'].str.replace('Sep ', 'September ')\n",
    "data['date'] = data['date'].str.replace('Aug ', 'August ')\n",
    "data['date'] = data['date'].str.replace('Jul ', 'July ')\n",
    "data['date'] = data['date'].str.replace('Jun ', 'June ')\n",
    "data['date'] = data['date'].str.replace('Apr ', 'April ')\n",
    "data['date'] = data['date'].str.replace('Mar ', 'March ')\n",
    "data['date'] = data['date'].str.replace('Feb ', 'February ')\n",
    "data['date'] = data['date'].str.replace('Jan ', 'January ')"
   ]
  },
  {
   "cell_type": "code",
   "execution_count": 238,
   "id": "74943c00",
   "metadata": {},
   "outputs": [],
   "source": [
    "data['date'] = data['date'].str.replace(' ', '')"
   ]
  },
  {
   "cell_type": "code",
   "execution_count": 239,
   "id": "b1e1add7",
   "metadata": {},
   "outputs": [],
   "source": [
    "for i, val in enumerate(data['date']):\n",
    "    data['date'].iloc[i] = pd.to_datetime(data['date'].iloc[i], format='%B%d,%Y', errors='coerce')"
   ]
  },
  {
   "cell_type": "code",
   "execution_count": 240,
   "id": "221c9a2d",
   "metadata": {},
   "outputs": [],
   "source": [
    "data['date'] = data['date'].astype('datetime64[ns]')"
   ]
  },
  {
   "cell_type": "code",
   "execution_count": 241,
   "id": "7ae941c1",
   "metadata": {},
   "outputs": [
    {
     "data": {
      "text/html": [
       "<div>\n",
       "<style scoped>\n",
       "    .dataframe tbody tr th:only-of-type {\n",
       "        vertical-align: middle;\n",
       "    }\n",
       "\n",
       "    .dataframe tbody tr th {\n",
       "        vertical-align: top;\n",
       "    }\n",
       "\n",
       "    .dataframe thead th {\n",
       "        text-align: right;\n",
       "    }\n",
       "</style>\n",
       "<table border=\"1\" class=\"dataframe\">\n",
       "  <thead>\n",
       "    <tr style=\"text-align: right;\">\n",
       "      <th></th>\n",
       "      <th>title</th>\n",
       "      <th>text</th>\n",
       "      <th>subject</th>\n",
       "      <th>date</th>\n",
       "      <th>label</th>\n",
       "    </tr>\n",
       "  </thead>\n",
       "  <tbody>\n",
       "    <tr>\n",
       "      <th>0</th>\n",
       "      <td>Donald Trump Sends Out Embarrassing New Year’...</td>\n",
       "      <td>Donald Trump just couldn t wish all Americans ...</td>\n",
       "      <td>News</td>\n",
       "      <td>2017-12-31</td>\n",
       "      <td>0</td>\n",
       "    </tr>\n",
       "    <tr>\n",
       "      <th>1</th>\n",
       "      <td>Drunk Bragging Trump Staffer Started Russian ...</td>\n",
       "      <td>House Intelligence Committee Chairman Devin Nu...</td>\n",
       "      <td>News</td>\n",
       "      <td>2017-12-31</td>\n",
       "      <td>0</td>\n",
       "    </tr>\n",
       "    <tr>\n",
       "      <th>2</th>\n",
       "      <td>Sheriff David Clarke Becomes An Internet Joke...</td>\n",
       "      <td>On Friday, it was revealed that former Milwauk...</td>\n",
       "      <td>News</td>\n",
       "      <td>2017-12-30</td>\n",
       "      <td>0</td>\n",
       "    </tr>\n",
       "    <tr>\n",
       "      <th>3</th>\n",
       "      <td>Trump Is So Obsessed He Even Has Obama’s Name...</td>\n",
       "      <td>On Christmas day, Donald Trump announced that ...</td>\n",
       "      <td>News</td>\n",
       "      <td>2017-12-29</td>\n",
       "      <td>0</td>\n",
       "    </tr>\n",
       "    <tr>\n",
       "      <th>4</th>\n",
       "      <td>Pope Francis Just Called Out Donald Trump Dur...</td>\n",
       "      <td>Pope Francis used his annual Christmas Day mes...</td>\n",
       "      <td>News</td>\n",
       "      <td>2017-12-25</td>\n",
       "      <td>0</td>\n",
       "    </tr>\n",
       "  </tbody>\n",
       "</table>\n",
       "</div>"
      ],
      "text/plain": [
       "                                               title  \\\n",
       "0   Donald Trump Sends Out Embarrassing New Year’...   \n",
       "1   Drunk Bragging Trump Staffer Started Russian ...   \n",
       "2   Sheriff David Clarke Becomes An Internet Joke...   \n",
       "3   Trump Is So Obsessed He Even Has Obama’s Name...   \n",
       "4   Pope Francis Just Called Out Donald Trump Dur...   \n",
       "\n",
       "                                                text subject       date  label  \n",
       "0  Donald Trump just couldn t wish all Americans ...    News 2017-12-31      0  \n",
       "1  House Intelligence Committee Chairman Devin Nu...    News 2017-12-31      0  \n",
       "2  On Friday, it was revealed that former Milwauk...    News 2017-12-30      0  \n",
       "3  On Christmas day, Donald Trump announced that ...    News 2017-12-29      0  \n",
       "4  Pope Francis used his annual Christmas Day mes...    News 2017-12-25      0  "
      ]
     },
     "execution_count": 241,
     "metadata": {},
     "output_type": "execute_result"
    }
   ],
   "source": [
    "data.head()"
   ]
  },
  {
   "cell_type": "code",
   "execution_count": 242,
   "id": "e3343f84",
   "metadata": {},
   "outputs": [
    {
     "name": "stdout",
     "output_type": "stream",
     "text": [
      "<class 'pandas.core.frame.DataFrame'>\n",
      "Int64Index: 44898 entries, 0 to 21416\n",
      "Data columns (total 5 columns):\n",
      " #   Column   Non-Null Count  Dtype         \n",
      "---  ------   --------------  -----         \n",
      " 0   title    44898 non-null  object        \n",
      " 1   text     44898 non-null  object        \n",
      " 2   subject  44898 non-null  object        \n",
      " 3   date     44888 non-null  datetime64[ns]\n",
      " 4   label    44898 non-null  int64         \n",
      "dtypes: datetime64[ns](1), int64(1), object(3)\n",
      "memory usage: 3.1+ MB\n"
     ]
    }
   ],
   "source": [
    "data.info()"
   ]
  },
  {
   "cell_type": "code",
   "execution_count": 243,
   "id": "349df3c1",
   "metadata": {},
   "outputs": [
    {
     "data": {
      "text/html": [
       "<div>\n",
       "<style scoped>\n",
       "    .dataframe tbody tr th:only-of-type {\n",
       "        vertical-align: middle;\n",
       "    }\n",
       "\n",
       "    .dataframe tbody tr th {\n",
       "        vertical-align: top;\n",
       "    }\n",
       "\n",
       "    .dataframe thead th {\n",
       "        text-align: right;\n",
       "    }\n",
       "</style>\n",
       "<table border=\"1\" class=\"dataframe\">\n",
       "  <thead>\n",
       "    <tr style=\"text-align: right;\">\n",
       "      <th></th>\n",
       "      <th>title</th>\n",
       "      <th>text</th>\n",
       "      <th>subject</th>\n",
       "      <th>date</th>\n",
       "      <th>label</th>\n",
       "      <th>Day</th>\n",
       "      <th>Month</th>\n",
       "      <th>year</th>\n",
       "    </tr>\n",
       "  </thead>\n",
       "  <tbody>\n",
       "    <tr>\n",
       "      <th>0</th>\n",
       "      <td>Donald Trump Sends Out Embarrassing New Year’...</td>\n",
       "      <td>Donald Trump just couldn t wish all Americans ...</td>\n",
       "      <td>News</td>\n",
       "      <td>2017-12-31</td>\n",
       "      <td>0</td>\n",
       "      <td>31.0</td>\n",
       "      <td>12.0</td>\n",
       "      <td>2017.0</td>\n",
       "    </tr>\n",
       "    <tr>\n",
       "      <th>1</th>\n",
       "      <td>Drunk Bragging Trump Staffer Started Russian ...</td>\n",
       "      <td>House Intelligence Committee Chairman Devin Nu...</td>\n",
       "      <td>News</td>\n",
       "      <td>2017-12-31</td>\n",
       "      <td>0</td>\n",
       "      <td>31.0</td>\n",
       "      <td>12.0</td>\n",
       "      <td>2017.0</td>\n",
       "    </tr>\n",
       "    <tr>\n",
       "      <th>2</th>\n",
       "      <td>Sheriff David Clarke Becomes An Internet Joke...</td>\n",
       "      <td>On Friday, it was revealed that former Milwauk...</td>\n",
       "      <td>News</td>\n",
       "      <td>2017-12-30</td>\n",
       "      <td>0</td>\n",
       "      <td>30.0</td>\n",
       "      <td>12.0</td>\n",
       "      <td>2017.0</td>\n",
       "    </tr>\n",
       "    <tr>\n",
       "      <th>3</th>\n",
       "      <td>Trump Is So Obsessed He Even Has Obama’s Name...</td>\n",
       "      <td>On Christmas day, Donald Trump announced that ...</td>\n",
       "      <td>News</td>\n",
       "      <td>2017-12-29</td>\n",
       "      <td>0</td>\n",
       "      <td>29.0</td>\n",
       "      <td>12.0</td>\n",
       "      <td>2017.0</td>\n",
       "    </tr>\n",
       "    <tr>\n",
       "      <th>4</th>\n",
       "      <td>Pope Francis Just Called Out Donald Trump Dur...</td>\n",
       "      <td>Pope Francis used his annual Christmas Day mes...</td>\n",
       "      <td>News</td>\n",
       "      <td>2017-12-25</td>\n",
       "      <td>0</td>\n",
       "      <td>25.0</td>\n",
       "      <td>12.0</td>\n",
       "      <td>2017.0</td>\n",
       "    </tr>\n",
       "  </tbody>\n",
       "</table>\n",
       "</div>"
      ],
      "text/plain": [
       "                                               title  \\\n",
       "0   Donald Trump Sends Out Embarrassing New Year’...   \n",
       "1   Drunk Bragging Trump Staffer Started Russian ...   \n",
       "2   Sheriff David Clarke Becomes An Internet Joke...   \n",
       "3   Trump Is So Obsessed He Even Has Obama’s Name...   \n",
       "4   Pope Francis Just Called Out Donald Trump Dur...   \n",
       "\n",
       "                                                text subject       date  \\\n",
       "0  Donald Trump just couldn t wish all Americans ...    News 2017-12-31   \n",
       "1  House Intelligence Committee Chairman Devin Nu...    News 2017-12-31   \n",
       "2  On Friday, it was revealed that former Milwauk...    News 2017-12-30   \n",
       "3  On Christmas day, Donald Trump announced that ...    News 2017-12-29   \n",
       "4  Pope Francis used his annual Christmas Day mes...    News 2017-12-25   \n",
       "\n",
       "   label   Day  Month    year  \n",
       "0      0  31.0   12.0  2017.0  \n",
       "1      0  31.0   12.0  2017.0  \n",
       "2      0  30.0   12.0  2017.0  \n",
       "3      0  29.0   12.0  2017.0  \n",
       "4      0  25.0   12.0  2017.0  "
      ]
     },
     "execution_count": 243,
     "metadata": {},
     "output_type": "execute_result"
    }
   ],
   "source": [
    "# lets make new column for date months and year and drop date columns \n",
    "\n",
    "data['Day'] = data['date'].dt.day\n",
    "data['Month'] = data['date'].dt.month\n",
    "data['year'] = data['date'].dt.year\n",
    "\n",
    "data.head()"
   ]
  },
  {
   "cell_type": "code",
   "execution_count": 244,
   "id": "873b4a5c",
   "metadata": {},
   "outputs": [
    {
     "name": "stdout",
     "output_type": "stream",
     "text": [
      "<class 'pandas.core.frame.DataFrame'>\n",
      "Int64Index: 44898 entries, 0 to 21416\n",
      "Data columns (total 8 columns):\n",
      " #   Column   Non-Null Count  Dtype         \n",
      "---  ------   --------------  -----         \n",
      " 0   title    44898 non-null  object        \n",
      " 1   text     44898 non-null  object        \n",
      " 2   subject  44898 non-null  object        \n",
      " 3   date     44888 non-null  datetime64[ns]\n",
      " 4   label    44898 non-null  int64         \n",
      " 5   Day      44888 non-null  float64       \n",
      " 6   Month    44888 non-null  float64       \n",
      " 7   year     44888 non-null  float64       \n",
      "dtypes: datetime64[ns](1), float64(3), int64(1), object(3)\n",
      "memory usage: 4.1+ MB\n"
     ]
    }
   ],
   "source": [
    "data.info()"
   ]
  },
  {
   "cell_type": "code",
   "execution_count": 245,
   "id": "1f8437ec",
   "metadata": {},
   "outputs": [],
   "source": [
    "data = data.drop('date',axis=1)"
   ]
  },
  {
   "cell_type": "code",
   "execution_count": 246,
   "id": "2d8f5478",
   "metadata": {},
   "outputs": [
    {
     "data": {
      "text/html": [
       "<div>\n",
       "<style scoped>\n",
       "    .dataframe tbody tr th:only-of-type {\n",
       "        vertical-align: middle;\n",
       "    }\n",
       "\n",
       "    .dataframe tbody tr th {\n",
       "        vertical-align: top;\n",
       "    }\n",
       "\n",
       "    .dataframe thead th {\n",
       "        text-align: right;\n",
       "    }\n",
       "</style>\n",
       "<table border=\"1\" class=\"dataframe\">\n",
       "  <thead>\n",
       "    <tr style=\"text-align: right;\">\n",
       "      <th></th>\n",
       "      <th>title</th>\n",
       "      <th>text</th>\n",
       "      <th>subject</th>\n",
       "      <th>label</th>\n",
       "      <th>Day</th>\n",
       "      <th>Month</th>\n",
       "      <th>year</th>\n",
       "    </tr>\n",
       "  </thead>\n",
       "  <tbody>\n",
       "    <tr>\n",
       "      <th>0</th>\n",
       "      <td>Donald Trump Sends Out Embarrassing New Year’...</td>\n",
       "      <td>Donald Trump just couldn t wish all Americans ...</td>\n",
       "      <td>News</td>\n",
       "      <td>0</td>\n",
       "      <td>31.0</td>\n",
       "      <td>12.0</td>\n",
       "      <td>2017.0</td>\n",
       "    </tr>\n",
       "    <tr>\n",
       "      <th>1</th>\n",
       "      <td>Drunk Bragging Trump Staffer Started Russian ...</td>\n",
       "      <td>House Intelligence Committee Chairman Devin Nu...</td>\n",
       "      <td>News</td>\n",
       "      <td>0</td>\n",
       "      <td>31.0</td>\n",
       "      <td>12.0</td>\n",
       "      <td>2017.0</td>\n",
       "    </tr>\n",
       "    <tr>\n",
       "      <th>2</th>\n",
       "      <td>Sheriff David Clarke Becomes An Internet Joke...</td>\n",
       "      <td>On Friday, it was revealed that former Milwauk...</td>\n",
       "      <td>News</td>\n",
       "      <td>0</td>\n",
       "      <td>30.0</td>\n",
       "      <td>12.0</td>\n",
       "      <td>2017.0</td>\n",
       "    </tr>\n",
       "    <tr>\n",
       "      <th>3</th>\n",
       "      <td>Trump Is So Obsessed He Even Has Obama’s Name...</td>\n",
       "      <td>On Christmas day, Donald Trump announced that ...</td>\n",
       "      <td>News</td>\n",
       "      <td>0</td>\n",
       "      <td>29.0</td>\n",
       "      <td>12.0</td>\n",
       "      <td>2017.0</td>\n",
       "    </tr>\n",
       "    <tr>\n",
       "      <th>4</th>\n",
       "      <td>Pope Francis Just Called Out Donald Trump Dur...</td>\n",
       "      <td>Pope Francis used his annual Christmas Day mes...</td>\n",
       "      <td>News</td>\n",
       "      <td>0</td>\n",
       "      <td>25.0</td>\n",
       "      <td>12.0</td>\n",
       "      <td>2017.0</td>\n",
       "    </tr>\n",
       "  </tbody>\n",
       "</table>\n",
       "</div>"
      ],
      "text/plain": [
       "                                               title  \\\n",
       "0   Donald Trump Sends Out Embarrassing New Year’...   \n",
       "1   Drunk Bragging Trump Staffer Started Russian ...   \n",
       "2   Sheriff David Clarke Becomes An Internet Joke...   \n",
       "3   Trump Is So Obsessed He Even Has Obama’s Name...   \n",
       "4   Pope Francis Just Called Out Donald Trump Dur...   \n",
       "\n",
       "                                                text subject  label   Day  \\\n",
       "0  Donald Trump just couldn t wish all Americans ...    News      0  31.0   \n",
       "1  House Intelligence Committee Chairman Devin Nu...    News      0  31.0   \n",
       "2  On Friday, it was revealed that former Milwauk...    News      0  30.0   \n",
       "3  On Christmas day, Donald Trump announced that ...    News      0  29.0   \n",
       "4  Pope Francis used his annual Christmas Day mes...    News      0  25.0   \n",
       "\n",
       "   Month    year  \n",
       "0   12.0  2017.0  \n",
       "1   12.0  2017.0  \n",
       "2   12.0  2017.0  \n",
       "3   12.0  2017.0  \n",
       "4   12.0  2017.0  "
      ]
     },
     "execution_count": 246,
     "metadata": {},
     "output_type": "execute_result"
    }
   ],
   "source": [
    "data.head()"
   ]
  },
  {
   "cell_type": "code",
   "execution_count": 247,
   "id": "6b8d3211",
   "metadata": {},
   "outputs": [],
   "source": [
    "sub = data[['Month', 'label']]\n",
    "sub = sub.dropna()\n",
    "sub = sub.groupby(['Month'])['label'].sum()"
   ]
  },
  {
   "cell_type": "code",
   "execution_count": 248,
   "id": "92457eb6",
   "metadata": {},
   "outputs": [
    {
     "data": {
      "text/plain": [
       "Month\n",
       "1.0      996\n",
       "2.0     1023\n",
       "3.0     1174\n",
       "4.0      926\n",
       "5.0      899\n",
       "6.0      975\n",
       "7.0      878\n",
       "8.0      922\n",
       "9.0     3425\n",
       "10.0    3508\n",
       "11.0    3733\n",
       "12.0    2958\n",
       "Name: label, dtype: int64"
      ]
     },
     "execution_count": 248,
     "metadata": {},
     "output_type": "execute_result"
    }
   ],
   "source": [
    "sub"
   ]
  },
  {
   "cell_type": "code",
   "execution_count": 250,
   "id": "87792144",
   "metadata": {},
   "outputs": [
    {
     "data": {
      "text/plain": [
       "[<matplotlib.lines.Line2D at 0x25962b14910>]"
      ]
     },
     "execution_count": 250,
     "metadata": {},
     "output_type": "execute_result"
    },
    {
     "data": {
      "image/png": "[encoded data removed]",
      "text/plain": [
       "<Figure size 432x288 with 1 Axes>"
      ]
     },
     "metadata": {
      "needs_background": "light"
     },
     "output_type": "display_data"
    }
   ],
   "source": [
    "plt.suptitle('Dynamics of fake news')\n",
    "plt.xticks(rotation=90)\n",
    "plt.ylabel('Number of fake news')\n",
    "plt.xlabel('Month-Year')\n",
    "plt.plot(sub.index, sub.values, linewidth=2, color='green')"
   ]
  },
  {
   "cell_type": "markdown",
   "id": "961d5317",
   "metadata": {},
   "source": [
    "# There is too much spike of fake news after August month"
   ]
  },
  {
   "cell_type": "code",
   "execution_count": 251,
   "id": "d9c37a46",
   "metadata": {},
   "outputs": [],
   "source": [
    "sub2 = data[['subject', 'label']]\n",
    "sub2 = sub2.dropna()\n",
    "sub2 = sub2.groupby(['subject'])['label'].sum()"
   ]
  },
  {
   "cell_type": "code",
   "execution_count": 252,
   "id": "aba5f4f4",
   "metadata": {},
   "outputs": [
    {
     "data": {
      "text/plain": [
       "subject\n",
       "Government News        0\n",
       "Middle-east            0\n",
       "News                   0\n",
       "US_News                0\n",
       "left-news              0\n",
       "politics               0\n",
       "politicsNews       11272\n",
       "worldnews          10145\n",
       "Name: label, dtype: int64"
      ]
     },
     "execution_count": 252,
     "metadata": {},
     "output_type": "execute_result"
    }
   ],
   "source": [
    "sub2"
   ]
  },
  {
   "cell_type": "code",
   "execution_count": 253,
   "id": "8c11dd75",
   "metadata": {},
   "outputs": [
    {
     "data": {
      "text/plain": [
       "<BarContainer object of 8 artists>"
      ]
     },
     "execution_count": 253,
     "metadata": {},
     "output_type": "execute_result"
    },
    {
     "data": {
      "image/png": "[encoded data removed]",
      "text/plain": [
       "<Figure size 432x288 with 1 Axes>"
      ]
     },
     "metadata": {
      "needs_background": "light"
     },
     "output_type": "display_data"
    }
   ],
   "source": [
    "plt.suptitle('Fake news among different categories')\n",
    "plt.xticks(rotation=90)\n",
    "plt.ylabel('Number of fake news')\n",
    "plt.xlabel('Category')\n",
    "\n",
    "plt.bar(sub2.index, height=sub2.values, color='green')"
   ]
  },
  {
   "cell_type": "markdown",
   "id": "5cb781c0",
   "metadata": {},
   "source": [
    "# Clearly we understand from both these graphs that Dates and subject are crucial for algorithm to decide whether the news is fake or real"
   ]
  },
  {
   "cell_type": "code",
   "execution_count": 254,
   "id": "2032e2b4",
   "metadata": {},
   "outputs": [],
   "source": [
    "nlp = data"
   ]
  },
  {
   "cell_type": "code",
   "execution_count": 255,
   "id": "e899032c",
   "metadata": {},
   "outputs": [],
   "source": [
    "# I will add the 'subject' feature to the title field as it might have an influence on the outcome of classification.\n",
    "\n",
    "nlp['title'] = nlp['title'] + ' ' + nlp['subject']"
   ]
  },
  {
   "cell_type": "code",
   "execution_count": 256,
   "id": "bc00d692",
   "metadata": {},
   "outputs": [],
   "source": [
    "\n",
    "# Here I am going to take one example and try visualize tfidf as a wordcloud.\n",
    "\n",
    "from sklearn.feature_extraction.text import TfidfVectorizer\n",
    "\n",
    "corpus = nlp[nlp['label'] == 1]['title'].iloc[0:500] \n",
    "\n",
    "# We will take a slice of fake news, to see what vocabulary there looks like\n",
    "\n",
    "tfidf1 = TfidfVectorizer()\n",
    "vecs = tfidf1.fit_transform(corpus)\n",
    "\n",
    "feature_names = tfidf1.get_feature_names()\n",
    "dense = vecs.todense()\n",
    "list_words = dense.tolist()\n",
    "df_words = pd.DataFrame(list_words, columns=feature_names)"
   ]
  },
  {
   "cell_type": "code",
   "execution_count": 257,
   "id": "7507d6b6",
   "metadata": {},
   "outputs": [],
   "source": [
    "from wordcloud import WordCloud, STOPWORDS, ImageColorGenerator\n",
    "\n",
    "df_words.T.sum(axis=1)\n",
    "\n",
    "Cloud = WordCloud(background_color=\"white\", max_words=100).generate_from_frequencies(df_words.T.sum(axis=1))"
   ]
  },
  {
   "cell_type": "code",
   "execution_count": 258,
   "id": "14ae3196",
   "metadata": {},
   "outputs": [
    {
     "data": {
      "text/plain": [
       "<matplotlib.image.AxesImage at 0x2592c5e1a90>"
      ]
     },
     "execution_count": 258,
     "metadata": {},
     "output_type": "execute_result"
    },
    {
     "data": {
      "image/png": "[encoded data removed]",
      "text/plain": [
       "<Figure size 864x360 with 1 Axes>"
      ]
     },
     "metadata": {
      "needs_background": "light"
     },
     "output_type": "display_data"
    }
   ],
   "source": [
    "plt.figure(figsize=(12,5))\n",
    "plt.imshow(Cloud, interpolation='bilinear')"
   ]
  },
  {
   "cell_type": "markdown",
   "id": "f1f9d943",
   "metadata": {},
   "source": [
    "# And we can also see out 'subject' feature in the foreground as it has been added manually in every title. Therefore, out vectorizer considers it as an important & frequent word."
   ]
  },
  {
   "cell_type": "code",
   "execution_count": 259,
   "id": "4b6a2b73",
   "metadata": {},
   "outputs": [],
   "source": [
    "from sklearn.naive_bayes import MultinomialNB\n",
    "from sklearn.model_selection import train_test_split\n",
    "from sklearn.metrics import accuracy_score, confusion_matrix, classification_report,roc_curve,roc_auc_score,auc\n",
    "from sklearn.feature_extraction.text import TfidfVectorizer\n"
   ]
  },
  {
   "cell_type": "code",
   "execution_count": 260,
   "id": "8e29011a",
   "metadata": {},
   "outputs": [
    {
     "data": {
      "text/html": [
       "<div>\n",
       "<style scoped>\n",
       "    .dataframe tbody tr th:only-of-type {\n",
       "        vertical-align: middle;\n",
       "    }\n",
       "\n",
       "    .dataframe tbody tr th {\n",
       "        vertical-align: top;\n",
       "    }\n",
       "\n",
       "    .dataframe thead th {\n",
       "        text-align: right;\n",
       "    }\n",
       "</style>\n",
       "<table border=\"1\" class=\"dataframe\">\n",
       "  <thead>\n",
       "    <tr style=\"text-align: right;\">\n",
       "      <th></th>\n",
       "      <th>title</th>\n",
       "      <th>text</th>\n",
       "      <th>subject</th>\n",
       "      <th>label</th>\n",
       "      <th>Day</th>\n",
       "      <th>Month</th>\n",
       "      <th>year</th>\n",
       "    </tr>\n",
       "  </thead>\n",
       "  <tbody>\n",
       "    <tr>\n",
       "      <th>0</th>\n",
       "      <td>Donald Trump Sends Out Embarrassing New Year’...</td>\n",
       "      <td>Donald Trump just couldn t wish all Americans ...</td>\n",
       "      <td>News</td>\n",
       "      <td>0</td>\n",
       "      <td>31.0</td>\n",
       "      <td>12.0</td>\n",
       "      <td>2017.0</td>\n",
       "    </tr>\n",
       "    <tr>\n",
       "      <th>1</th>\n",
       "      <td>Drunk Bragging Trump Staffer Started Russian ...</td>\n",
       "      <td>House Intelligence Committee Chairman Devin Nu...</td>\n",
       "      <td>News</td>\n",
       "      <td>0</td>\n",
       "      <td>31.0</td>\n",
       "      <td>12.0</td>\n",
       "      <td>2017.0</td>\n",
       "    </tr>\n",
       "    <tr>\n",
       "      <th>2</th>\n",
       "      <td>Sheriff David Clarke Becomes An Internet Joke...</td>\n",
       "      <td>On Friday, it was revealed that former Milwauk...</td>\n",
       "      <td>News</td>\n",
       "      <td>0</td>\n",
       "      <td>30.0</td>\n",
       "      <td>12.0</td>\n",
       "      <td>2017.0</td>\n",
       "    </tr>\n",
       "    <tr>\n",
       "      <th>3</th>\n",
       "      <td>Trump Is So Obsessed He Even Has Obama’s Name...</td>\n",
       "      <td>On Christmas day, Donald Trump announced that ...</td>\n",
       "      <td>News</td>\n",
       "      <td>0</td>\n",
       "      <td>29.0</td>\n",
       "      <td>12.0</td>\n",
       "      <td>2017.0</td>\n",
       "    </tr>\n",
       "    <tr>\n",
       "      <th>4</th>\n",
       "      <td>Pope Francis Just Called Out Donald Trump Dur...</td>\n",
       "      <td>Pope Francis used his annual Christmas Day mes...</td>\n",
       "      <td>News</td>\n",
       "      <td>0</td>\n",
       "      <td>25.0</td>\n",
       "      <td>12.0</td>\n",
       "      <td>2017.0</td>\n",
       "    </tr>\n",
       "  </tbody>\n",
       "</table>\n",
       "</div>"
      ],
      "text/plain": [
       "                                               title  \\\n",
       "0   Donald Trump Sends Out Embarrassing New Year’...   \n",
       "1   Drunk Bragging Trump Staffer Started Russian ...   \n",
       "2   Sheriff David Clarke Becomes An Internet Joke...   \n",
       "3   Trump Is So Obsessed He Even Has Obama’s Name...   \n",
       "4   Pope Francis Just Called Out Donald Trump Dur...   \n",
       "\n",
       "                                                text subject  label   Day  \\\n",
       "0  Donald Trump just couldn t wish all Americans ...    News      0  31.0   \n",
       "1  House Intelligence Committee Chairman Devin Nu...    News      0  31.0   \n",
       "2  On Friday, it was revealed that former Milwauk...    News      0  30.0   \n",
       "3  On Christmas day, Donald Trump announced that ...    News      0  29.0   \n",
       "4  Pope Francis used his annual Christmas Day mes...    News      0  25.0   \n",
       "\n",
       "   Month    year  \n",
       "0   12.0  2017.0  \n",
       "1   12.0  2017.0  \n",
       "2   12.0  2017.0  \n",
       "3   12.0  2017.0  \n",
       "4   12.0  2017.0  "
      ]
     },
     "execution_count": 260,
     "metadata": {},
     "output_type": "execute_result"
    }
   ],
   "source": [
    "nlp.head()"
   ]
  },
  {
   "cell_type": "markdown",
   "id": "88f9ac23",
   "metadata": {},
   "source": [
    "# Remove Regular Expressions"
   ]
  },
  {
   "cell_type": "code",
   "execution_count": 261,
   "id": "9ff72b9b",
   "metadata": {},
   "outputs": [],
   "source": [
    "# Replace 10 digit phone numbers (formats include paranthesis, spaces, no spaces, dashes) with 'phonenumber'\n",
    "\n",
    "nlp['title'] = nlp['title'].str.replace(r'^\\(?[\\d]{3}\\)?[\\s-]?[\\d]{3}[\\s-]?[\\d]{4}$','phonenumber')"
   ]
  },
  {
   "cell_type": "code",
   "execution_count": 262,
   "id": "a4454281",
   "metadata": {},
   "outputs": [],
   "source": [
    "# Replace email addresses with 'email'\n",
    "\n",
    "nlp['title'] = nlp['title'].str.replace(r'^.+@[^\\.].*\\.[a-z]{2,}$','emailaddress')"
   ]
  },
  {
   "cell_type": "code",
   "execution_count": 263,
   "id": "5776e890",
   "metadata": {},
   "outputs": [],
   "source": [
    "# Replace URLs with 'webaddress'\n",
    "\n",
    "nlp['title'] = nlp['title'].str.replace(r'^http\\://[a-zA-Z0-9\\-\\.]+\\.[a-zA-Z]{2,3}(/\\S*)?$','webaddress')"
   ]
  },
  {
   "cell_type": "code",
   "execution_count": 264,
   "id": "63f4e0ff",
   "metadata": {},
   "outputs": [],
   "source": [
    "# Replace money symbols with 'moneysymb'\n",
    "\n",
    "nlp['title'] = nlp['title'].str.replace(r'£|\\$', 'dollers')"
   ]
  },
  {
   "cell_type": "code",
   "execution_count": 265,
   "id": "3a15a1c9",
   "metadata": {},
   "outputs": [],
   "source": [
    "# Replace numbers with 'numbr'\n",
    "nlp['title'] = nlp['title'].str.replace(r'\\d+(\\.\\d+)?', 'numbr')"
   ]
  },
  {
   "cell_type": "markdown",
   "id": "8c81d6d7",
   "metadata": {},
   "source": [
    "# REMOVE PUNCTUATIONS"
   ]
  },
  {
   "cell_type": "code",
   "execution_count": 266,
   "id": "0ef29906",
   "metadata": {},
   "outputs": [],
   "source": [
    "nlp['title'] = nlp['title'].str.replace(r'[^\\w\\d\\s]', ' ')"
   ]
  },
  {
   "cell_type": "code",
   "execution_count": 267,
   "id": "33751166",
   "metadata": {},
   "outputs": [],
   "source": [
    "# REPLACE WHITESPACES BETWEEN TERMS WITH A SINGLE SPACE\n",
    "\n",
    "nlp['title']  = nlp['title'].str.replace(r'\\s+', ' ')"
   ]
  },
  {
   "cell_type": "code",
   "execution_count": 268,
   "id": "0c08eace",
   "metadata": {},
   "outputs": [],
   "source": [
    "# Remove leading and trailing whitespaces \n",
    "\n",
    "nlp['title'] = nlp['title'].str.replace(r'^\\s+|\\s+?$','')"
   ]
  },
  {
   "cell_type": "code",
   "execution_count": 273,
   "id": "fd68d9e6",
   "metadata": {},
   "outputs": [],
   "source": [
    "# First, I will tokenize words to pass it on to the SnowballStemmer method, which will take out lemmas from words.\n",
    "\n",
    "\n",
    "import nltk\n",
    "from nltk import word_tokenize\n",
    "\n",
    "nlp['title'] = nlp['title'].apply(lambda x: word_tokenize(str(x)))"
   ]
  },
  {
   "cell_type": "code",
   "execution_count": 274,
   "id": "dc46e9c7",
   "metadata": {},
   "outputs": [],
   "source": [
    "# An important step in every NLP-task is to get the roots of words in order not to distract the model by 'different' words.\n",
    "\n",
    "from nltk.stem import SnowballStemmer\n",
    "\n",
    "snowball = SnowballStemmer(language='english')\n",
    "nlp['title'] = nlp['title'].apply(lambda x: [snowball.stem(y) for y in x])"
   ]
  },
  {
   "cell_type": "code",
   "execution_count": 275,
   "id": "4199a6db",
   "metadata": {},
   "outputs": [],
   "source": [
    "nlp['title'] = nlp['title'].apply(lambda x: ' '.join(x))"
   ]
  },
  {
   "cell_type": "code",
   "execution_count": 276,
   "id": "52d71be6",
   "metadata": {},
   "outputs": [],
   "source": [
    "# Take the standard english bag of stopwords from nltk.\n",
    "\n",
    "from nltk.corpus import stopwords \n",
    "stopwords = stopwords.words('english')"
   ]
  },
  {
   "cell_type": "code",
   "execution_count": 277,
   "id": "d5186ee0",
   "metadata": {},
   "outputs": [],
   "source": [
    "from sklearn.feature_extraction.text import TfidfVectorizer\n",
    " \n",
    "\n",
    "tfidf = TfidfVectorizer()                                   \n",
    "X_text = tfidf.fit_transform(nlp['title'])                  ## for making text into vector form"
   ]
  },
  {
   "cell_type": "code",
   "execution_count": 278,
   "id": "f63acbe1",
   "metadata": {},
   "outputs": [],
   "source": [
    "from sklearn.model_selection import train_test_split\n",
    "\n",
    "X_train, X_test, y_train, y_test = train_test_split(X_text, nlp['label'], test_size=0.33, random_state=1)"
   ]
  },
  {
   "cell_type": "code",
   "execution_count": 279,
   "id": "46e75a78",
   "metadata": {},
   "outputs": [],
   "source": [
    "scores = {}"
   ]
  },
  {
   "cell_type": "markdown",
   "id": "92fe9cfd",
   "metadata": {},
   "source": [
    "# 1. Linear SVC"
   ]
  },
  {
   "cell_type": "code",
   "execution_count": 281,
   "id": "f73103c0",
   "metadata": {},
   "outputs": [
    {
     "name": "stdout",
     "output_type": "stream",
     "text": [
      "[1. 1. 1.]\n",
      "1.0\n"
     ]
    }
   ],
   "source": [
    "from sklearn.svm import LinearSVC\n",
    "from sklearn.model_selection import cross_val_score\n",
    "from sklearn.metrics import accuracy_score\n",
    "\n",
    "clf = LinearSVC(max_iter=100, C=1.0)\n",
    "clf.fit(X_train, y_train)\n",
    "\n",
    "y_pred_SVM = clf.predict(X_test)\n",
    "print(cross_val_score(clf, X_text, nlp['label'], cv=3))\n",
    "print(accuracy_score(y_pred_SVM, y_test))\n",
    "\n",
    "scores['LinearSVC'] = accuracy_score(y_pred_SVM, y_test)"
   ]
  },
  {
   "cell_type": "markdown",
   "id": "b5efdf1b",
   "metadata": {},
   "source": [
    "# This looks suspiciously good, but lets try another algorithm."
   ]
  },
  {
   "cell_type": "markdown",
   "id": "c54b7863",
   "metadata": {},
   "source": [
    "# 2. Naive Bayes"
   ]
  },
  {
   "cell_type": "code",
   "execution_count": 282,
   "id": "d718f523",
   "metadata": {},
   "outputs": [
    {
     "name": "stdout",
     "output_type": "stream",
     "text": [
      "[0.95416277 0.94921823 0.95002005]\n",
      "0.9784706755753526\n"
     ]
    }
   ],
   "source": [
    "from sklearn.naive_bayes import MultinomialNB\n",
    "\n",
    "clf2 = MultinomialNB()\n",
    "clf2.fit(X_train, y_train)\n",
    "\n",
    "y_pred_MNB = clf2.predict(X_test)\n",
    "print(cross_val_score(clf2, X_text, nlp['label'], cv=3))\n",
    "print(accuracy_score(y_pred_MNB, y_test))\n",
    "\n",
    "scores['MultinomialNB'] = accuracy_score(y_pred_MNB, y_test)"
   ]
  },
  {
   "cell_type": "code",
   "execution_count": 283,
   "id": "cc67b1a5",
   "metadata": {},
   "outputs": [],
   "source": [
    "from sklearn.tree import DecisionTreeClassifier\n",
    "from sklearn.neighbors import KNeighborsClassifier\n",
    "from sklearn.ensemble import RandomForestClassifier,AdaBoostClassifier,GradientBoostingClassifier\n"
   ]
  },
  {
   "cell_type": "markdown",
   "id": "a33b53ff",
   "metadata": {},
   "source": [
    "# 3. LOGISTIC REGRESSION"
   ]
  },
  {
   "cell_type": "code",
   "execution_count": 284,
   "id": "106b29ae",
   "metadata": {},
   "outputs": [
    {
     "name": "stdout",
     "output_type": "stream",
     "text": [
      "[0.99953227 0.99792864 0.99124683]\n",
      "0.9998650199095633\n"
     ]
    }
   ],
   "source": [
    "LG = LogisticRegression(C=1, max_iter = 3000)\n",
    "\n",
    "LG.fit(X_train, y_train)\n",
    "\n",
    "y_pred_train = LG.predict(X_test)\n",
    "print(cross_val_score(LG, X_text, nlp['label'], cv=3))\n",
    "print(accuracy_score(y_pred_train, y_test))\n",
    "\n",
    "scores['LogisticRegression'] = accuracy_score(y_pred_train, y_test)"
   ]
  },
  {
   "cell_type": "markdown",
   "id": "1121eb95",
   "metadata": {},
   "source": [
    "# 4. RANDOM FOREST CLASSIFIER"
   ]
  },
  {
   "cell_type": "code",
   "execution_count": 285,
   "id": "168fc535",
   "metadata": {},
   "outputs": [
    {
     "name": "stdout",
     "output_type": "stream",
     "text": [
      "[0.99966591 0.99832955 0.98583456]\n",
      "0.999797529864345\n"
     ]
    }
   ],
   "source": [
    "RF = RandomForestClassifier()\n",
    "\n",
    "RF.fit(X_train, y_train)\n",
    "\n",
    "y_pred_trains = RF.predict(X_test)\n",
    "\n",
    "print(cross_val_score(RF, X_text, nlp['label'], cv=3))\n",
    "print(accuracy_score(y_pred_trains, y_test))\n",
    "\n",
    "scores['Random Forest Classifier'] = accuracy_score(y_pred_trains, y_test)"
   ]
  },
  {
   "cell_type": "code",
   "execution_count": 286,
   "id": "162a0e8e",
   "metadata": {},
   "outputs": [
    {
     "data": {
      "text/plain": [
       "{'LinearSVC': 1.0,\n",
       " 'MultinomialNB': 0.9784706755753526,\n",
       " 'LogisticRegression': 0.9998650199095633,\n",
       " 'Random Forest Classifier': 0.999797529864345}"
      ]
     },
     "execution_count": 286,
     "metadata": {},
     "output_type": "execute_result"
    }
   ],
   "source": [
    "scores"
   ]
  },
  {
   "cell_type": "code",
   "execution_count": 297,
   "id": "a287efd2",
   "metadata": {},
   "outputs": [
    {
     "name": "stdout",
     "output_type": "stream",
     "text": [
      "              precision    recall  f1-score   support\n",
      "\n",
      "           0       1.00      1.00      1.00      7750\n",
      "           1       1.00      1.00      1.00      7067\n",
      "\n",
      "    accuracy                           1.00     14817\n",
      "   macro avg       1.00      1.00      1.00     14817\n",
      "weighted avg       1.00      1.00      1.00     14817\n",
      "\n"
     ]
    }
   ],
   "source": [
    "print(classification_report(y_test,y_pred_SVM))"
   ]
  },
  {
   "cell_type": "code",
   "execution_count": 287,
   "id": "af657da2",
   "metadata": {},
   "outputs": [],
   "source": [
    "# lets make a bar plot for scores "
   ]
  },
  {
   "cell_type": "code",
   "execution_count": 289,
   "id": "d4e5b559",
   "metadata": {},
   "outputs": [
    {
     "data": {
      "text/plain": [
       "<BarContainer object of 4 artists>"
      ]
     },
     "execution_count": 289,
     "metadata": {},
     "output_type": "execute_result"
    },
    {
     "data": {
      "image/png": "[encoded data removed]",
      "text/plain": [
       "<Figure size 504x432 with 1 Axes>"
      ]
     },
     "metadata": {
      "needs_background": "light"
     },
     "output_type": "display_data"
    }
   ],
   "source": [
    "plt.figure(figsize=(7,6))\n",
    "plt.bar(scores.keys(), scores.values())"
   ]
  },
  {
   "cell_type": "code",
   "execution_count": 290,
   "id": "0462ee79",
   "metadata": {},
   "outputs": [],
   "source": [
    "# Since my model predict best omn test data so need to do hypertuning\n",
    "# hence my model is ready to predict\n"
   ]
  },
  {
   "cell_type": "markdown",
   "id": "ae1c7e15",
   "metadata": {},
   "source": [
    "# Model completed"
   ]
  },
  {
   "cell_type": "code",
   "execution_count": 296,
   "id": "35b1a755",
   "metadata": {},
   "outputs": [],
   "source": [
    "import pickle"
   ]
  },
  {
   "cell_type": "code",
   "execution_count": 298,
   "id": "3dd31db6",
   "metadata": {},
   "outputs": [],
   "source": [
    "filename = 'Fake News.pickle'\n",
    "pickle.dump(clf,open(filename,'wb'))"
   ]
  },
  {
   "cell_type": "code",
   "execution_count": null,
   "id": "cede5d21",
   "metadata": {},
   "outputs": [],
   "source": []
  }
 ],
 "metadata": {
  "kernelspec": {
   "display_name": "Python 3 (ipykernel)",
   "language": "python",
   "name": "python3"
  },
  "language_info": {
   "codemirror_mode": {
    "name": "ipython",
    "version": 3
   },
   "file_extension": ".py",
   "mimetype": "text/x-python",
   "name": "python",
   "nbconvert_exporter": "python",
   "pygments_lexer": "ipython3",
   "version": "3.9.7"
  }
 },
 "nbformat": 4,
 "nbformat_minor": 5
}
